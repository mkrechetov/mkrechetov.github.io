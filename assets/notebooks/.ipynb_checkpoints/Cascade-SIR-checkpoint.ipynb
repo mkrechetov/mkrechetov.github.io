{
 "cells": [
  {
   "cell_type": "code",
   "execution_count": 12,
   "id": "5aeca6c3",
   "metadata": {},
   "outputs": [],
   "source": [
    "import random\n",
    "import networkx as nx\n",
    "import matplotlib.pyplot as plt\n",
    "import matplotlib.animation as animation\n",
    "from matplotlib.animation import FuncAnimation, PillowWriter"
   ]
  },
  {
   "cell_type": "code",
   "execution_count": 13,
   "id": "77fdadc8",
   "metadata": {},
   "outputs": [],
   "source": [
    "def ax_pattern(G, pos, susceptible, infected, removed, t, ax):\n",
    "    ax.clear()\n",
    "    ax.axis('off')\n",
    "    nx.draw_networkx_nodes(G, pos, nodelist=susceptible, node_size=200, node_color=\"blue\", ax=ax)\n",
    "    nx.draw_networkx_nodes(G, pos, nodelist=infected, node_size=200, node_color=\"red\", ax=ax)\n",
    "    nx.draw_networkx_nodes(G, pos, nodelist=removed, node_size=200, node_color=\"gray\", ax=ax)\n",
    "    nx.draw_networkx_edges(G, pos, width=0.2, ax=ax)\n",
    "    nx.draw_networkx_labels(G, pos) \n",
    "    ax.plot([], [], ' ', label=\"t = {}\".format(t))\n",
    "    ax.legend()\n",
    "    \n",
    "def cascade_step(G, p, susceptible, infected, removed):\n",
    "    new_removed = removed.union(infected)\n",
    "    new_susceptible = susceptible\n",
    "    new_infected = set()\n",
    "\n",
    "    for node in infected:\n",
    "        for child in G.neighbors(node):\n",
    "            if child in new_susceptible:\n",
    "                toss_a_coin = random.random()\n",
    "                if toss_a_coin < p:\n",
    "                    new_infected.add(child)\n",
    "                    new_susceptible.remove(child)\n",
    "                    \n",
    "    return new_susceptible, new_infected, new_removed\n",
    "\n",
    "def sir_gif(G, infected, p=0.7, max_iter=100, seed=1):\n",
    "    random.seed(a = seed)\n",
    "    pos = nx.kamada_kawai_layout(G)\n",
    "    nodes = set(G.nodes())\n",
    "    susceptible = nodes.difference(infected)\n",
    "    removed = set()\n",
    "    \n",
    "    fig, ax = plt.subplots()\n",
    "    \n",
    "    def animate(i, lst, ax): \n",
    "        G = lst[0]\n",
    "        pos = lst[1]\n",
    "        susceptible = lst[2]\n",
    "        infected = lst[3]\n",
    "        removed = lst[4]\n",
    "        \n",
    "        if (i == 0) or (len(infected) == 0):\n",
    "            ax_pattern(G, pos, lst[2], lst[3], lst[4], i, ax)\n",
    "        else:\n",
    "            lst[2], lst[3], lst[4] = cascade_step(G, p, susceptible, infected, removed)\n",
    "            ax_pattern(G, pos, lst[2], lst[3], lst[4], i, ax)\n",
    "            \n",
    "            \n",
    "    life_animation = animation.FuncAnimation(fig, \n",
    "                                             animate, \n",
    "                                             fargs=([G, pos, susceptible, infected, removed], ax),\n",
    "                                             save_count=max_iter,\n",
    "                                             interval = 1000,\n",
    "                                             repeat = False)\n",
    "\n",
    "    life_animation.save('SIR.gif',\n",
    "                        writer='imagemagick',\n",
    "                        fps=1,\n",
    "                        dpi=290)\n",
    "    "
   ]
  },
  {
   "cell_type": "code",
   "execution_count": 14,
   "id": "2b5ff6c1",
   "metadata": {},
   "outputs": [
    {
     "data": {
      "image/png": "[encoded data removed]",
      "text/plain": [
       "<Figure size 432x288 with 1 Axes>"
      ]
     },
     "metadata": {},
     "output_type": "display_data"
    }
   ],
   "source": [
    "G = nx.generators.random_graphs.gnm_random_graph(10, 10, seed=1447)\n",
    "nx.draw(G, with_labels=True)"
   ]
  },
  {
   "cell_type": "code",
   "execution_count": 15,
   "id": "5ca5efc7",
   "metadata": {},
   "outputs": [
    {
     "name": "stderr",
     "output_type": "stream",
     "text": [
      "MovieWriter imagemagick unavailable; using Pillow instead.\n"
     ]
    },
    {
     "data": {
      "image/png": "[encoded data removed]",
      "text/plain": [
       "<Figure size 432x288 with 1 Axes>"
      ]
     },
     "metadata": {},
     "output_type": "display_data"
    }
   ],
   "source": [
    "infected = [8]\n",
    "sir_gif(G, infected, p=0.5, max_iter=7)"
   ]
  },
  {
   "cell_type": "code",
   "execution_count": null,
   "id": "74d1eb58",
   "metadata": {},
   "outputs": [],
   "source": []
  }
 ],
 "metadata": {
  "kernelspec": {
   "display_name": "Python 3 (ipykernel)",
   "language": "python",
   "name": "python3"
  },
  "language_info": {
   "codemirror_mode": {
    "name": "ipython",
    "version": 3
   },
   "file_extension": ".py",
   "mimetype": "text/x-python",
   "name": "python",
   "nbconvert_exporter": "python",
   "pygments_lexer": "ipython3",
   "version": "3.7.7"
  }
 },
 "nbformat": 4,
 "nbformat_minor": 5
}
